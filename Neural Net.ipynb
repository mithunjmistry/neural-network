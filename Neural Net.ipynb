{
 "cells": [
  {
   "cell_type": "code",
   "execution_count": 11,
   "metadata": {
    "collapsed": true
   },
   "outputs": [],
   "source": [
    "import numpy as np\n",
    "import matplotlib.pyplot as plt\n",
    "import math\n",
    "%matplotlib inline"
   ]
  },
  {
   "cell_type": "code",
   "execution_count": 12,
   "metadata": {
    "collapsed": true
   },
   "outputs": [],
   "source": [
    "# Specify number of neurons in each layer\n",
    "input_layer = 2\n",
    "hidden_layer = 2\n",
    "output_layer = 1"
   ]
  },
  {
   "cell_type": "code",
   "execution_count": 13,
   "metadata": {
    "collapsed": true
   },
   "outputs": [],
   "source": [
    "def sigmoid(z):\n",
    "    return 1 / (1 + np.exp(-z))"
   ]
  },
  {
   "cell_type": "code",
   "execution_count": 14,
   "metadata": {
    "collapsed": true
   },
   "outputs": [],
   "source": [
    "def sigmoid_gradient(z):\n",
    "    sig_z = sigmoid(z)\n",
    "    return np.multiply(sig_z, (1 - sig_z))"
   ]
  },
  {
   "cell_type": "code",
   "execution_count": 15,
   "metadata": {
    "collapsed": true
   },
   "outputs": [],
   "source": [
    "from sklearn import datasets"
   ]
  },
  {
   "cell_type": "code",
   "execution_count": 16,
   "metadata": {
    "collapsed": true
   },
   "outputs": [],
   "source": [
    "iris_raw = datasets.load_iris()"
   ]
  },
  {
   "cell_type": "markdown",
   "metadata": {},
   "source": [
    "### Mean center data"
   ]
  },
  {
   "cell_type": "code",
   "execution_count": 17,
   "metadata": {
    "collapsed": true
   },
   "outputs": [],
   "source": [
    "x = iris_raw.data[:,-2:][50:]\n",
    "x = ((x - x.min(axis=0))/(x.max(axis=0) - x.min(axis=0)))"
   ]
  },
  {
   "cell_type": "code",
   "execution_count": 18,
   "metadata": {
    "collapsed": true
   },
   "outputs": [],
   "source": [
    "y = iris_raw.target[50:]\n",
    "y[y == 1] = 0\n",
    "y[y == 2] = 1"
   ]
  },
  {
   "cell_type": "code",
   "execution_count": 19,
   "metadata": {
    "collapsed": true
   },
   "outputs": [],
   "source": [
    "def neural_network():\n",
    "    # learning rate alpha\n",
    "    alpha = 0.1\n",
    "    np.random.seed(25)\n",
    "    # initialize theta_one and theta_two with uniformely distributed random values\n",
    "    theta_one = np.random.uniform(0, 1, 6).reshape(2, 3)\n",
    "    theta_two = np.random.uniform(0, 1, 3).reshape(1, 3)\n",
    "    #m are number of samples, where each column is one sample\n",
    "    m = 100\n",
    "    iterations = 200\n",
    "    error_total = 0\n",
    "    j_local = 0\n",
    "    j_history = []\n",
    "    iteration_count = []\n",
    "    my_output = []\n",
    "    counter = 0\n",
    "    for skip in range(0,100):\n",
    "        x_test = x[skip]\n",
    "        x_input = np.delete(x, (skip), axis=0)\n",
    "        y_test = y[skip]\n",
    "        y_output = np.delete(y, (skip), axis=0)\n",
    "        for itera in range(0,200):\n",
    "            triangle_one = np.zeros(6).reshape(2,3)\n",
    "            triangle_two = np.zeros(3).reshape(1,3)\n",
    "            for i in range(0, 99):\n",
    "                a_one = np.insert(x_input[i], 0, 1, axis=0)\n",
    "                a_one = a_one.reshape(3,1)\n",
    "                z_two = np.dot(theta_one, a_one)\n",
    "                # a_two activation by sending it to sigmoid function\n",
    "                a_two = sigmoid(z_two)\n",
    "                # insert 1 as bias term to a_two\n",
    "                a_two = np.insert(a_two, 0, 1, axis=0)\n",
    "                z_three = np.dot(theta_two, a_two)\n",
    "                a_three = sigmoid(z_three)\n",
    "\n",
    "                #find delta i.e. d3, d2\n",
    "                j_local += (y_output[i]*math.log10(a_three[0][0]) + (1-y_output[i])*math.log10(1-a_three[0][0]))\n",
    "\n",
    "                d3 = np.subtract(a_three, y_output[i])\n",
    "                sig_grad_z_two = sigmoid_gradient(np.insert(z_two, 0, 1, axis=0))\n",
    "                d2 = np.multiply(np.dot(theta_two.T, d3), sig_grad_z_two)\n",
    "                #we don't need 1st value as it is bias term\n",
    "                d2 = d2[1:,:]\n",
    "                #find big delta by the formula which are denoted by triangle, so variable is also named triangle\n",
    "                triangle_one += np.dot(d2, a_one.T)\n",
    "                triangle_two += np.dot(d3, a_two.T)\n",
    "                #theta gradient is big delta divided by m, where m is number of samples\n",
    "            j_history.append(j_local/-99)\n",
    "            j_local = 0\n",
    "            counter += 1\n",
    "            #Because of leave one out approach, divide by m - 1\n",
    "            theta_one_gradient = triangle_one/(m-1)\n",
    "            theta_two_gradient = triangle_two/(m-1)\n",
    "            #update theta values for next iteration\n",
    "            #updated_theta = theta - alpha * theta_gradient\n",
    "            theta_one = np.subtract(theta_one, np.multiply(alpha, theta_one_gradient))\n",
    "            theta_two = np.subtract(theta_two, np.multiply(alpha, theta_two_gradient))\n",
    "\n",
    "        a_one = np.insert(x_test, 0, 1, axis=0)\n",
    "        a_one = a_one.reshape(3,1)\n",
    "        z_two = np.dot(theta_one, a_one)\n",
    "        # a_two activation by sending it to sigmoid function\n",
    "        a_two = sigmoid(z_two)\n",
    "        # insert 1 as bias term to a_two\n",
    "        a_two = np.insert(a_two, 0, 1, axis=0)\n",
    "        z_three = np.dot(theta_two, a_two)\n",
    "        a_three = sigmoid(z_three)\n",
    "        \n",
    "        #Calculate mean squared error\n",
    "        #find delta i.e. d3, d2\n",
    "        if(np.asscalar(a_three) >= 0.5):\n",
    "            a_three[0][0] = 1\n",
    "        else:\n",
    "            a_three[0][0] = 0\n",
    "        my_output.append(a_three[0][0])\n",
    "        error = np.abs(np.asscalar(np.subtract(a_three, y_test)))\n",
    "        error_total += error\n",
    "    return theta_one, theta_two, error_total/m, j_history, my_output"
   ]
  },
  {
   "cell_type": "code",
   "execution_count": 20,
   "metadata": {
    "collapsed": true
   },
   "outputs": [],
   "source": [
    "theta_one_trained, theta_two_trained, error_average, j_history, my_output = neural_network()"
   ]
  },
  {
   "cell_type": "code",
   "execution_count": 21,
   "metadata": {},
   "outputs": [
    {
     "name": "stdout",
     "output_type": "stream",
     "text": [
      "Average error of neural net is 9.0%\n"
     ]
    }
   ],
   "source": [
    "print(\"Average error of neural net is {}%\".format(error_average*100))"
   ]
  },
  {
   "cell_type": "code",
   "execution_count": 22,
   "metadata": {},
   "outputs": [
    {
     "data": {
      "text/plain": [
       "<matplotlib.text.Text at 0x1aec7238978>"
      ]
     },
     "execution_count": 22,
     "metadata": {},
     "output_type": "execute_result"
    },
    {
     "data": {
      "image/png": "[encoded data removed]",
      "text/plain": [
       "<matplotlib.figure.Figure at 0x1aec6da1470>"
      ]
     },
     "metadata": {},
     "output_type": "display_data"
    }
   ],
   "source": [
    "plt.plot(j_history, np.arange(0,len(j_history)))\n",
    "plt.title(\"Cost function over iterations\")"
   ]
  },
  {
   "cell_type": "code",
   "execution_count": 23,
   "metadata": {},
   "outputs": [
    {
     "data": {
      "text/plain": [
       "array([0, 0, 0, 0, 0, 0, 0, 0, 0, 0, 0, 0, 0, 0, 0, 0, 0, 0, 0, 0, 0, 0, 0,\n",
       "       0, 0, 0, 0, 0, 0, 0, 0, 0, 0, 0, 0, 0, 0, 0, 0, 0, 0, 0, 0, 0, 0, 0,\n",
       "       0, 0, 0, 0, 1, 1, 1, 1, 1, 1, 1, 1, 1, 1, 1, 1, 1, 1, 1, 1, 1, 1, 1,\n",
       "       1, 1, 1, 1, 1, 1, 1, 1, 1, 1, 1, 1, 1, 1, 1, 1, 1, 1, 1, 1, 1, 1, 1,\n",
       "       1, 1, 1, 1, 1, 1, 1, 1])"
      ]
     },
     "execution_count": 23,
     "metadata": {},
     "output_type": "execute_result"
    }
   ],
   "source": [
    "y"
   ]
  },
  {
   "cell_type": "code",
   "execution_count": 24,
   "metadata": {
    "collapsed": true
   },
   "outputs": [],
   "source": [
    "my_target = np.array(my_output, dtype=int)"
   ]
  },
  {
   "cell_type": "code",
   "execution_count": 25,
   "metadata": {
    "collapsed": true
   },
   "outputs": [],
   "source": [
    "accuracy = 100 - (y != my_target).sum()/float(len(y))*100"
   ]
  },
  {
   "cell_type": "code",
   "execution_count": 26,
   "metadata": {},
   "outputs": [
    {
     "name": "stdout",
     "output_type": "stream",
     "text": [
      "Accuracy of this neural net is 91.0%\n"
     ]
    }
   ],
   "source": [
    "print(\"Accuracy of this neural net is {}%\".format(accuracy))"
   ]
  },
  {
   "cell_type": "code",
   "execution_count": 29,
   "metadata": {},
   "outputs": [
    {
     "data": {
      "text/plain": [
       "0.089999999999999997"
      ]
     },
     "execution_count": 29,
     "metadata": {},
     "output_type": "execute_result"
    }
   ],
   "source": [
    "error_average"
   ]
  },
  {
   "cell_type": "code",
   "execution_count": null,
   "metadata": {
    "collapsed": true
   },
   "outputs": [],
   "source": []
  }
 ],
 "metadata": {
  "kernelspec": {
   "display_name": "Python 3",
   "language": "python",
   "name": "python3"
  },
  "language_info": {
   "codemirror_mode": {
    "name": "ipython",
    "version": 3
   },
   "file_extension": ".py",
   "mimetype": "text/x-python",
   "name": "python",
   "nbconvert_exporter": "python",
   "pygments_lexer": "ipython3",
   "version": "3.6.1"
  }
 },
 "nbformat": 4,
 "nbformat_minor": 2
}
